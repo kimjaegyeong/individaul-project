{
  "nbformat": 4,
  "nbformat_minor": 0,
  "metadata": {
    "colab": {
      "name": "face_detection.ipynb",
      "provenance": [],
      "collapsed_sections": [],
      "authorship_tag": "ABX9TyNlxW2sRbM5SGys+G475gqp",
      "include_colab_link": true
    },
    "kernelspec": {
      "name": "python3",
      "display_name": "Python 3"
    },
    "accelerator": "GPU"
  },
  "cells": [
    {
      "cell_type": "markdown",
      "metadata": {
        "id": "view-in-github",
        "colab_type": "text"
      },
      "source": [
        "<a href=\"https://colab.research.google.com/github/kimjaegyeong/individaul-project/blob/master/face_detection.ipynb\" target=\"_parent\"><img src=\"https://colab.research.google.com/assets/colab-badge.svg\" alt=\"Open In Colab\"/></a>"
      ]
    },
    {
      "cell_type": "code",
      "metadata": {
        "id": "DIos9rqgwrLu"
      },
      "source": [
        "pip install face_recognition opencv-python matplotlib"
      ],
      "execution_count": null,
      "outputs": []
    },
    {
      "cell_type": "code",
      "metadata": {
        "id": "-Uj6L_3pwyCx"
      },
      "source": [
        "import cv2, os\n",
        "import face_recognition as fr\n",
        "from IPython.display import Image, display\n",
        "from matplotlib import pyplot as plt"
      ],
      "execution_count": 3,
      "outputs": []
    },
    {
      "cell_type": "code",
      "metadata": {
        "id": "InRDNhspwuDT"
      },
      "source": [
        "image_path = '/content/JG1.jpg'\n",
        "image = fr.load_image_file(image_path)"
      ],
      "execution_count": null,
      "outputs": []
    },
    {
      "cell_type": "code",
      "metadata": {
        "id": "bF8agN4uxAeZ"
      },
      "source": [
        "face_locations = fr.face_locations(image)\n",
        "\n",
        "for (top, right, bottom, left) in face_locations:\n",
        "  # (그릴 곳, 시작점, 끝점, 색, 두께)\n",
        "  cv2.rectangle(image, (left, top), (right, bottom), (0, 255, 0), 3)"
      ],
      "execution_count": null,
      "outputs": []
    },
    {
      "cell_type": "code",
      "metadata": {
        "id": "wPyB7j-fxFqi"
      },
      "source": [
        "plt.rcParams['figure.figsize'] = (16, 16)\n",
        "plt.imshow(image)\n",
        "plt.show()"
      ],
      "execution_count": null,
      "outputs": []
    },
    {
      "cell_type": "code",
      "metadata": {
        "id": "Jg4uTMq_xIWZ"
      },
      "source": [
        "image_path = '/content/JG1.jpg'\n",
        "image = fr.load_image_file(image_path)"
      ],
      "execution_count": null,
      "outputs": []
    },
    {
      "cell_type": "code",
      "metadata": {
        "id": "vTjIygj4xUi4"
      },
      "source": [
        "face_locations = fr.face_locations(image)\n",
        "\n",
        "actor_faces = []\n",
        "for (top, right, bottom, left) in face_locations:\n",
        "  # 원본 이미지 복사\n",
        "  tmp_image = image[:]\n",
        "  # 이미지 크롭\n",
        "  face_image = tmp_image[top:bottom, left:right]\n",
        "  # 얼굴 저장\n",
        "  actor_faces.append(face_image)"
      ],
      "execution_count": null,
      "outputs": []
    },
    {
      "cell_type": "code",
      "metadata": {
        "colab": {
          "base_uri": "https://localhost:8080/",
          "height": 106
        },
        "id": "64AcMvufxZe-",
        "outputId": "4516251f-6ddf-4767-ef9f-3287da3fe2cf"
      },
      "source": [
        "image_path = '/content/JG3.PNG'\n",
        "name= 'ANU_JaeGyeongKim'\n",
        "image = fr.load_image_file(image_path)\n",
        "\n",
        "face_locations = fr.face_locations(image)\n",
        "\n",
        "for (top, right, bottom, left) in face_locations:\n",
        "  jaegyeong= image[top:bottom, left:right]\n",
        "\n",
        "plt.rcParams['figure.figsize'] = (1, 1)\n",
        "plt.imshow(jaegyeong)\n",
        "plt.show()\n"
      ],
      "execution_count": null,
      "outputs": [
        {
          "output_type": "display_data",
          "data": {
            "image/png": "[encoded data removed]",
            "text/plain": [
              "<Figure size 72x72 with 1 Axes>"
            ]
          },
          "metadata": {
            "tags": [],
            "needs_background": "light"
          }
        }
      ]
    },
    {
      "cell_type": "code",
      "metadata": {
        "id": "Bk8dQEYaxnDf"
      },
      "source": [
        "enc_face = fr.face_encodings(jaegyeong)"
      ],
      "execution_count": null,
      "outputs": []
    },
    {
      "cell_type": "code",
      "metadata": {
        "colab": {
          "base_uri": "https://localhost:8080/",
          "height": 52
        },
        "id": "mxFknxDMx1Wa",
        "outputId": "471e27dd-39c2-4780-eac7-8eb7eb432f18"
      },
      "source": [
        "plt.imshow(enc_face)\n",
        "plt.show()"
      ],
      "execution_count": null,
      "outputs": [
        {
          "output_type": "display_data",
          "data": {
            "image/png": "[encoded data removed]",
            "text/plain": [
              "<Figure size 72x72 with 1 Axes>"
            ]
          },
          "metadata": {
            "tags": [],
            "needs_background": "light"
          }
        }
      ]
    },
    {
      "cell_type": "code",
      "metadata": {
        "colab": {
          "base_uri": "https://localhost:8080/",
          "height": 118
        },
        "id": "0ITcKaLwypl9",
        "outputId": "b43bb303-6c92-4583-e991-cc08fdfdb00c"
      },
      "source": [
        "for face in actor_faces:\n",
        "  enc_actor_face = fr.face_encodings(face)\n",
        "  distance = fr.face_distance(enc_actor_face, enc_face[0])\n",
        "  plt.title('distance' + str(distance),y=0.3, x=4)\n",
        "  plt.suptitle('name: '+str(name), y=1.1)\n",
        "  plt.imshow(face)\n",
        "  plt.show()"
      ],
      "execution_count": null,
      "outputs": [
        {
          "output_type": "display_data",
          "data": {
            "image/png": "[encoded data removed]",
            "text/plain": [
              "<Figure size 72x72 with 1 Axes>"
            ]
          },
          "metadata": {
            "tags": [],
            "needs_background": "light"
          }
        }
      ]
    }
  ]
}